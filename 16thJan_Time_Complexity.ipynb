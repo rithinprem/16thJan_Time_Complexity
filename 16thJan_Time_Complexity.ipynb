{
 "cells": [
  {
   "cell_type": "markdown",
   "id": "30070a2a-f076-4e8b-ac8a-efb00ef7f48f",
   "metadata": {},
   "source": [
    "# Find time complexity of below code blocks :\n"
   ]
  },
  {
   "cell_type": "code",
   "execution_count": null,
   "id": "32a188cc-c050-4a60-ace2-89b7aa00baab",
   "metadata": {},
   "outputs": [],
   "source": [
    "#Problem 1 :\n",
    "def quicksort(arr):\n",
    "    if len(arr) <= 1:\n",
    "        return arr\n",
    "    pivot = arr[len(arr) // 2]\n",
    "    left = [x for x in arr if x < pivot]\n",
    "    middle = [x for x in arr if x == pivot]\n",
    "    right = [x for x in arr if x > pivot]\n",
    "    return quicksort(left) + middle + quicksort(right)\n",
    "\n",
    "# The time complexity of the quicksort algorithm is generally expressed using big O notation. In the average case, \n",
    "# quicksort has a time complexity of O(n log n), where \"n\" is the number of elements in the array. This is the average\n",
    "# case because the algorithm, on average, divides the array into two halves at each recursive step.\n",
    "\n",
    "# In the worst case, the time complexity is O(n^2), which occurs when the pivot selection consistently results in \n",
    "# poorly balanced partitions. However, the worst-case scenario is less likely to happen in practice, especially if\n",
    "# the pivot is chosen randomly or by using a median-of-three approach.\n",
    "\n",
    "# The space complexity of quicksort is O(log n) in the average case, which represents the depth of the recursive call stack. \n",
    "# In the worst case, it can be O(n) if the recursion is not well-balanced, but this is less common."
   ]
  },
  {
   "cell_type": "code",
   "execution_count": 5,
   "id": "2bff8ac2-8e91-423f-b6cc-db9074ea85ec",
   "metadata": {},
   "outputs": [],
   "source": [
    "#Problem 2 :\n",
    "def nested_loop_example(matrix):\n",
    "    rows, cols = len(matrix), len(matrix[0])\n",
    "    total = 0\n",
    "    for i in range(rows):\n",
    "        for j in range(cols):\n",
    "            total += matrix[i][j]\n",
    "    return total\n",
    "\n",
    "# The outer loop runs for rows iterations, and for each iteration of the outer loop, the inner loop runs for cols iterations. \n",
    "# Within the inner loop, a constant amount of work is done (adding the value at matrix[i][j] to the total variable).\n",
    "\n",
    "# Therefore, the time complexity (in big O notation) can be expressed as O(rows * cols) or O(n), where n is the total number \n",
    "# of elements in the matrix. This is because the nested loops visit each element of the matrix once.\n"
   ]
  },
  {
   "cell_type": "code",
   "execution_count": null,
   "id": "6c39a618-104b-4db7-ba55-862f1d480cf4",
   "metadata": {},
   "outputs": [],
   "source": [
    "#Problem 3 :\n",
    "def example_function(arr):\n",
    "    result = 0\n",
    "    for element in arr:\n",
    "        result += element\n",
    "    return result\n",
    "\n",
    "# The time complexity of the provided example_function is O(n), where n is the length of the input array arr.\n",
    "# The function iterates through each element in the array once, performing a constant amount of work\n",
    "# (adding the element to the result variable) for each iteration. Therefore, the time complexity is linear with \n",
    "# respect to the size of the input array.\n"
   ]
  },
  {
   "cell_type": "code",
   "execution_count": 22,
   "id": "76038f2b-2169-4ef5-8caf-e98c6a934025",
   "metadata": {},
   "outputs": [],
   "source": [
    "#Problem 4 :\n",
    "def longest_increasing_subsequence(nums):\n",
    "    n = len(nums)\n",
    "    lis = [1] * n\n",
    "    for i in range(1, n):\n",
    "        for j in range(0, i):\n",
    "            if nums[i] > nums[j] and lis[i] < lis[j] + 1:\n",
    "                lis[i] = lis[j] + 1\n",
    "    return max(lis)\n",
    "\n",
    "\n",
    "# Time complexity=>   n(n+1)/2 => n^2/2 + n/2  => O(n^2)   \n",
    "# The outer loop runs in O(n) time, iterating over each index i from 1 to n-1.\n",
    "# The inner loop runs in O(n) time, iterating over each index j from 0 to i-1.\n",
    "# Within the inner loop, the comparison and update operations take constant time, so they do not affect\n",
    "# the overall time complexity.\n",
    "\n",
    "# Combining the time complexities of the outer and inner loops, we get O(n * n) = O(n^2). Therefore, the\n",
    "# overall time complexity of the provided function is O(n^2)."
   ]
  },
  {
   "cell_type": "code",
   "execution_count": null,
   "id": "06317de6-1ffb-4ff0-9cb5-583252a56f43",
   "metadata": {},
   "outputs": [],
   "source": [
    "#Problem 5 :\n",
    "    def mysterious_function(arr):\n",
    "    n = len(arr)\n",
    "    result = 0\n",
    "    for i in range(n):\n",
    "        for j in range(i, n):\n",
    "            result += arr[i] * arr[j]\n",
    "    return result\n",
    "\n",
    "# The time complexity of the provided mysterious_function is O(n^2), where n is the length of the input array arr.\n",
    "# This is due to the presence of nested loops:\n",
    "\n",
    "# The outer loop runs n times (for i from 0 to n-1).\n",
    "# The inner loop runs from i to n-1 for each iteration of the outer loop.\n",
    "# Within the inner loop, a constant amount of work is done (adding arr[i] * arr[j] to the result variable). \n",
    "# As a result, the overall time complexity is determined by the nested loops, resulting in O(n^2) complexity."
   ]
  },
  {
   "cell_type": "markdown",
   "id": "ea1259ce-02d0-4839-99fc-2414cdbd85af",
   "metadata": {},
   "source": [
    "# Solve the following problems on recursion"
   ]
  },
  {
   "cell_type": "code",
   "execution_count": 27,
   "id": "677e2ef8-51f5-4563-ae21-f64e03228e05",
   "metadata": {},
   "outputs": [
    {
     "name": "stdout",
     "output_type": "stream",
     "text": [
      "6\n"
     ]
    }
   ],
   "source": [
    "# Problem 6 : Sum of Digits\n",
    "# Write a recursive function to calculate the sum of digits of a given positive integer.\n",
    "# sum_of_digits(123) -> 6\n",
    "\n",
    "\n",
    "def sum_of_digits(num):\n",
    "    if num<=9:\n",
    "        return num\n",
    "    \n",
    "    sum_ = num%10\n",
    "    \n",
    "    return sum_ + sum_of_digits(num//10)\n",
    "\n",
    "num=123\n",
    "print(sum_of_digits(num))"
   ]
  },
  {
   "cell_type": "code",
   "execution_count": 49,
   "id": "8f8c991c-23de-47c9-a20b-dfd64ac0bd50",
   "metadata": {},
   "outputs": [
    {
     "name": "stdout",
     "output_type": "stream",
     "text": [
      "[0, 1, 1, 2, 3, 5]\n"
     ]
    }
   ],
   "source": [
    "# Problem 7: Fibonacci Series\n",
    "# Write a recursive function to generate the first n numbers of the Fibonacci series.\n",
    "# fibonacci_series(6) -> [0, 1, 1, 2, 3, 5]\n",
    "\n",
    "def fib_seq(n,i=0,a=0,b=1,lis=[]):    \n",
    "    if i==n:\n",
    "        return lis\n",
    "    lis.append(a)\n",
    "    \n",
    "    return fib_seq(n,i+1,b,a+b,lis)\n",
    "    \n",
    "n=6  \n",
    "print(fib_seq(n))"
   ]
  },
  {
   "cell_type": "code",
   "execution_count": 33,
   "id": "7ef4429f-c0b2-4631-911d-ff4a38359d85",
   "metadata": {},
   "outputs": [
    {
     "name": "stdout",
     "output_type": "stream",
     "text": [
      "False\n"
     ]
    }
   ],
   "source": [
    "# Problem 8 : Subset Sum\n",
    "# Given a set of positive integers and a target sum, write a recursive function to determine if there exists a subset\n",
    "# of the integers that adds up to the target sum.\n",
    "# subset_sum([3, 34, 4, 12, 5, 2], 9) -> True\n",
    "\n",
    "\n",
    "def subset(arr,target,i=0,sum_=0,):\n",
    "    if i == len(arr):\n",
    "        return sum_==target\n",
    "    \n",
    "    if sum_==target:\n",
    "        return True\n",
    "    \n",
    "    #if element of array is selected in subarray\n",
    "    r1=subset(arr,target,i+1,sum_+arr[i])\n",
    "    if r1:\n",
    "        return True    # if target==sum_ skip the case when element is not selected\n",
    "    \n",
    "    #if element of array is not selected in subarray\n",
    "    r2=subset(arr,target,i+1,sum_)\n",
    "\n",
    "    return sum_ == target or r2\n",
    "\n",
    "\n",
    "target=9\n",
    "arr=[3, 34, 4, 12, 5, 2]\n",
    "print(subset(arr,target))\n"
   ]
  },
  {
   "cell_type": "code",
   "execution_count": 82,
   "id": "614142ac-2c29-4a8e-860c-fccbf4d8a88b",
   "metadata": {},
   "outputs": [
    {
     "name": "stdout",
     "output_type": "stream",
     "text": [
      "False\n"
     ]
    }
   ],
   "source": [
    "# Problem 9: Word Break\n",
    "# Given a non-empty string and a dictionary of words, write a recursive function to determine if the string can be\n",
    "# segmented into a space-separated sequence of dictionary words.\n",
    "# word_break( leetcode , [ leet , code ]) -> True\n",
    "\n",
    "def word_break(lis,word):\n",
    "    if word ==\"\":\n",
    "        return True\n",
    "    \n",
    "    size = len(word)\n",
    "    for i in range(1,size+1):\n",
    "        if word[:i] in lis and word_break(lis,word[i:]):\n",
    "            return True\n",
    "    return False\n",
    "\n",
    "lis = [\"hello\",\"world\",\"how\",\"are\"]\n",
    "word = \"helloworld are\"\n",
    "print(word_break(lis,word))"
   ]
  },
  {
   "cell_type": "code",
   "execution_count": 39,
   "id": "786c2eb7-6e7e-452c-88e2-9ac360eb770b",
   "metadata": {},
   "outputs": [
    {
     "name": "stdout",
     "output_type": "stream",
     "text": [
      ". . Q .\n",
      "Q . . .\n",
      ". . . Q\n",
      ". Q . .\n",
      "\n",
      ". Q . .\n",
      ". . . Q\n",
      "Q . . .\n",
      ". . Q .\n",
      "\n"
     ]
    }
   ],
   "source": [
    "# Problem 10 : N-Queens\n",
    "# Implement a recursive function to solve the N Queens problem, where you have to place N queens on an N×N\n",
    "# chessboard in such a way that no two queens threaten each other.\n",
    "# n_queens(4)\n",
    "\n",
    "\n",
    "\n",
    "def print_solution(board):\n",
    "    for row in board:\n",
    "        print(\" \".join(row))\n",
    "    print()\n",
    "\n",
    "def is_safe(board, row, col, n):\n",
    "    # Check if there is a queen in the same row to the left\n",
    "    for i in range(col):\n",
    "        if board[row][i] == 'Q':\n",
    "            return False\n",
    "\n",
    "    # Check if there is a queen in the upper diagonal to the left\n",
    "    for i, j in zip(range(row, -1, -1), range(col, -1, -1)):\n",
    "        if board[i][j] == 'Q':\n",
    "            return False\n",
    "\n",
    "    # Check if there is a queen in the lower diagonal to the left\n",
    "    for i, j in zip(range(row, n, 1), range(col, -1, -1)):\n",
    "        if board[i][j] == 'Q':\n",
    "            return False\n",
    "\n",
    "    return True\n",
    "\n",
    "def solve_nqueens_util(board, col, n):\n",
    "    if col == n:\n",
    "        print_solution(board)\n",
    "        return\n",
    "\n",
    "    for i in range(n):\n",
    "        if is_safe(board, i, col, n):\n",
    "            board[i][col] = 'Q'\n",
    "            solve_nqueens_util(board, col + 1, n)\n",
    "            board[i][col] = '.'  # Backtrack\n",
    "\n",
    "def solve_nqueens(n):\n",
    "    board = [['.' for _ in range(n)] for _ in range(n)]\n",
    "    solve_nqueens_util(board, 0, n)\n",
    "\n",
    "# Example usage:\n",
    "n = 4\n",
    "solve_nqueens(n)\n"
   ]
  }
 ],
 "metadata": {
  "kernelspec": {
   "display_name": "Python 3 (ipykernel)",
   "language": "python",
   "name": "python3"
  },
  "language_info": {
   "codemirror_mode": {
    "name": "ipython",
    "version": 3
   },
   "file_extension": ".py",
   "mimetype": "text/x-python",
   "name": "python",
   "nbconvert_exporter": "python",
   "pygments_lexer": "ipython3",
   "version": "3.10.8"
  }
 },
 "nbformat": 4,
 "nbformat_minor": 5
}
